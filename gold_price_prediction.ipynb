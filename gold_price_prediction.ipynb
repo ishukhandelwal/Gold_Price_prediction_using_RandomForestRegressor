{
 "cells": [
  {
   "cell_type": "code",
   "execution_count": 28,
   "id": "68d2dc30-4378-41e6-85f4-2fa9afb19540",
   "metadata": {},
   "outputs": [],
   "source": [
    "import pandas as pd\n",
    "import numpy as np\n",
    "from sklearn.model_selection import train_test_split\n",
    "from sklearn.ensemble import RandomForestRegressor\n",
    "from sklearn import metrics\n",
    "import matplotlib.pyplot as plt\n",
    "import seaborn as sns"
   ]
  },
  {
   "cell_type": "code",
   "execution_count": 4,
   "id": "448a5fbf-580b-45fd-a070-2e9f50d48950",
   "metadata": {},
   "outputs": [],
   "source": [
    "gold_data = pd.read_csv('gld_price_data.csv')"
   ]
  },
  {
   "cell_type": "code",
   "execution_count": 5,
   "id": "1c00acee-7539-416f-af69-c1de6926e2b6",
   "metadata": {},
   "outputs": [
    {
     "data": {
      "text/plain": [
       "(2290, 6)"
      ]
     },
     "execution_count": 5,
     "metadata": {},
     "output_type": "execute_result"
    }
   ],
   "source": [
    "gold_data.shape"
   ]
  },
  {
   "cell_type": "code",
   "execution_count": 6,
   "id": "c70c63b3-fbf6-4fc0-a705-1f5cdad76ea7",
   "metadata": {},
   "outputs": [
    {
     "data": {
      "text/html": [
       "<div>\n",
       "<style scoped>\n",
       "    .dataframe tbody tr th:only-of-type {\n",
       "        vertical-align: middle;\n",
       "    }\n",
       "\n",
       "    .dataframe tbody tr th {\n",
       "        vertical-align: top;\n",
       "    }\n",
       "\n",
       "    .dataframe thead th {\n",
       "        text-align: right;\n",
       "    }\n",
       "</style>\n",
       "<table border=\"1\" class=\"dataframe\">\n",
       "  <thead>\n",
       "    <tr style=\"text-align: right;\">\n",
       "      <th></th>\n",
       "      <th>Date</th>\n",
       "      <th>SPX</th>\n",
       "      <th>GLD</th>\n",
       "      <th>USO</th>\n",
       "      <th>SLV</th>\n",
       "      <th>EUR/USD</th>\n",
       "    </tr>\n",
       "  </thead>\n",
       "  <tbody>\n",
       "    <tr>\n",
       "      <th>0</th>\n",
       "      <td>1/2/2008</td>\n",
       "      <td>1447.160034</td>\n",
       "      <td>84.860001</td>\n",
       "      <td>78.470001</td>\n",
       "      <td>15.180</td>\n",
       "      <td>1.471692</td>\n",
       "    </tr>\n",
       "    <tr>\n",
       "      <th>1</th>\n",
       "      <td>1/3/2008</td>\n",
       "      <td>1447.160034</td>\n",
       "      <td>85.570000</td>\n",
       "      <td>78.370003</td>\n",
       "      <td>15.285</td>\n",
       "      <td>1.474491</td>\n",
       "    </tr>\n",
       "    <tr>\n",
       "      <th>2</th>\n",
       "      <td>1/4/2008</td>\n",
       "      <td>1411.630005</td>\n",
       "      <td>85.129997</td>\n",
       "      <td>77.309998</td>\n",
       "      <td>15.167</td>\n",
       "      <td>1.475492</td>\n",
       "    </tr>\n",
       "    <tr>\n",
       "      <th>3</th>\n",
       "      <td>1/7/2008</td>\n",
       "      <td>1416.180054</td>\n",
       "      <td>84.769997</td>\n",
       "      <td>75.500000</td>\n",
       "      <td>15.053</td>\n",
       "      <td>1.468299</td>\n",
       "    </tr>\n",
       "    <tr>\n",
       "      <th>4</th>\n",
       "      <td>1/8/2008</td>\n",
       "      <td>1390.189941</td>\n",
       "      <td>86.779999</td>\n",
       "      <td>76.059998</td>\n",
       "      <td>15.590</td>\n",
       "      <td>1.557099</td>\n",
       "    </tr>\n",
       "  </tbody>\n",
       "</table>\n",
       "</div>"
      ],
      "text/plain": [
       "       Date          SPX        GLD        USO     SLV   EUR/USD\n",
       "0  1/2/2008  1447.160034  84.860001  78.470001  15.180  1.471692\n",
       "1  1/3/2008  1447.160034  85.570000  78.370003  15.285  1.474491\n",
       "2  1/4/2008  1411.630005  85.129997  77.309998  15.167  1.475492\n",
       "3  1/7/2008  1416.180054  84.769997  75.500000  15.053  1.468299\n",
       "4  1/8/2008  1390.189941  86.779999  76.059998  15.590  1.557099"
      ]
     },
     "execution_count": 6,
     "metadata": {},
     "output_type": "execute_result"
    }
   ],
   "source": [
    "gold_data.head()"
   ]
  },
  {
   "cell_type": "code",
   "execution_count": 7,
   "id": "abd1c78f-a4cf-497a-9bf8-af27734bfd68",
   "metadata": {},
   "outputs": [
    {
     "data": {
      "text/html": [
       "<div>\n",
       "<style scoped>\n",
       "    .dataframe tbody tr th:only-of-type {\n",
       "        vertical-align: middle;\n",
       "    }\n",
       "\n",
       "    .dataframe tbody tr th {\n",
       "        vertical-align: top;\n",
       "    }\n",
       "\n",
       "    .dataframe thead th {\n",
       "        text-align: right;\n",
       "    }\n",
       "</style>\n",
       "<table border=\"1\" class=\"dataframe\">\n",
       "  <thead>\n",
       "    <tr style=\"text-align: right;\">\n",
       "      <th></th>\n",
       "      <th>Date</th>\n",
       "      <th>SPX</th>\n",
       "      <th>GLD</th>\n",
       "      <th>USO</th>\n",
       "      <th>SLV</th>\n",
       "      <th>EUR/USD</th>\n",
       "    </tr>\n",
       "  </thead>\n",
       "  <tbody>\n",
       "    <tr>\n",
       "      <th>2285</th>\n",
       "      <td>5/8/2018</td>\n",
       "      <td>2671.919922</td>\n",
       "      <td>124.589996</td>\n",
       "      <td>14.0600</td>\n",
       "      <td>15.5100</td>\n",
       "      <td>1.186789</td>\n",
       "    </tr>\n",
       "    <tr>\n",
       "      <th>2286</th>\n",
       "      <td>5/9/2018</td>\n",
       "      <td>2697.790039</td>\n",
       "      <td>124.330002</td>\n",
       "      <td>14.3700</td>\n",
       "      <td>15.5300</td>\n",
       "      <td>1.184722</td>\n",
       "    </tr>\n",
       "    <tr>\n",
       "      <th>2287</th>\n",
       "      <td>5/10/2018</td>\n",
       "      <td>2723.070068</td>\n",
       "      <td>125.180000</td>\n",
       "      <td>14.4100</td>\n",
       "      <td>15.7400</td>\n",
       "      <td>1.191753</td>\n",
       "    </tr>\n",
       "    <tr>\n",
       "      <th>2288</th>\n",
       "      <td>5/14/2018</td>\n",
       "      <td>2730.129883</td>\n",
       "      <td>124.489998</td>\n",
       "      <td>14.3800</td>\n",
       "      <td>15.5600</td>\n",
       "      <td>1.193118</td>\n",
       "    </tr>\n",
       "    <tr>\n",
       "      <th>2289</th>\n",
       "      <td>5/16/2018</td>\n",
       "      <td>2725.780029</td>\n",
       "      <td>122.543800</td>\n",
       "      <td>14.4058</td>\n",
       "      <td>15.4542</td>\n",
       "      <td>1.182033</td>\n",
       "    </tr>\n",
       "  </tbody>\n",
       "</table>\n",
       "</div>"
      ],
      "text/plain": [
       "           Date          SPX         GLD      USO      SLV   EUR/USD\n",
       "2285   5/8/2018  2671.919922  124.589996  14.0600  15.5100  1.186789\n",
       "2286   5/9/2018  2697.790039  124.330002  14.3700  15.5300  1.184722\n",
       "2287  5/10/2018  2723.070068  125.180000  14.4100  15.7400  1.191753\n",
       "2288  5/14/2018  2730.129883  124.489998  14.3800  15.5600  1.193118\n",
       "2289  5/16/2018  2725.780029  122.543800  14.4058  15.4542  1.182033"
      ]
     },
     "execution_count": 7,
     "metadata": {},
     "output_type": "execute_result"
    }
   ],
   "source": [
    "gold_data.tail()"
   ]
  },
  {
   "cell_type": "code",
   "execution_count": 8,
   "id": "d071f76d-afa7-4132-8be6-dd738690b717",
   "metadata": {},
   "outputs": [
    {
     "data": {
      "text/html": [
       "<div>\n",
       "<style scoped>\n",
       "    .dataframe tbody tr th:only-of-type {\n",
       "        vertical-align: middle;\n",
       "    }\n",
       "\n",
       "    .dataframe tbody tr th {\n",
       "        vertical-align: top;\n",
       "    }\n",
       "\n",
       "    .dataframe thead th {\n",
       "        text-align: right;\n",
       "    }\n",
       "</style>\n",
       "<table border=\"1\" class=\"dataframe\">\n",
       "  <thead>\n",
       "    <tr style=\"text-align: right;\">\n",
       "      <th></th>\n",
       "      <th>SPX</th>\n",
       "      <th>GLD</th>\n",
       "      <th>USO</th>\n",
       "      <th>SLV</th>\n",
       "      <th>EUR/USD</th>\n",
       "    </tr>\n",
       "  </thead>\n",
       "  <tbody>\n",
       "    <tr>\n",
       "      <th>count</th>\n",
       "      <td>2290.000000</td>\n",
       "      <td>2290.000000</td>\n",
       "      <td>2290.000000</td>\n",
       "      <td>2290.000000</td>\n",
       "      <td>2290.000000</td>\n",
       "    </tr>\n",
       "    <tr>\n",
       "      <th>mean</th>\n",
       "      <td>1654.315776</td>\n",
       "      <td>122.732875</td>\n",
       "      <td>31.842221</td>\n",
       "      <td>20.084997</td>\n",
       "      <td>1.283653</td>\n",
       "    </tr>\n",
       "    <tr>\n",
       "      <th>std</th>\n",
       "      <td>519.111540</td>\n",
       "      <td>23.283346</td>\n",
       "      <td>19.523517</td>\n",
       "      <td>7.092566</td>\n",
       "      <td>0.131547</td>\n",
       "    </tr>\n",
       "    <tr>\n",
       "      <th>min</th>\n",
       "      <td>676.530029</td>\n",
       "      <td>70.000000</td>\n",
       "      <td>7.960000</td>\n",
       "      <td>8.850000</td>\n",
       "      <td>1.039047</td>\n",
       "    </tr>\n",
       "    <tr>\n",
       "      <th>25%</th>\n",
       "      <td>1239.874969</td>\n",
       "      <td>109.725000</td>\n",
       "      <td>14.380000</td>\n",
       "      <td>15.570000</td>\n",
       "      <td>1.171313</td>\n",
       "    </tr>\n",
       "    <tr>\n",
       "      <th>50%</th>\n",
       "      <td>1551.434998</td>\n",
       "      <td>120.580002</td>\n",
       "      <td>33.869999</td>\n",
       "      <td>17.268500</td>\n",
       "      <td>1.303297</td>\n",
       "    </tr>\n",
       "    <tr>\n",
       "      <th>75%</th>\n",
       "      <td>2073.010070</td>\n",
       "      <td>132.840004</td>\n",
       "      <td>37.827501</td>\n",
       "      <td>22.882500</td>\n",
       "      <td>1.369971</td>\n",
       "    </tr>\n",
       "    <tr>\n",
       "      <th>max</th>\n",
       "      <td>2872.870117</td>\n",
       "      <td>184.589996</td>\n",
       "      <td>117.480003</td>\n",
       "      <td>47.259998</td>\n",
       "      <td>1.598798</td>\n",
       "    </tr>\n",
       "  </tbody>\n",
       "</table>\n",
       "</div>"
      ],
      "text/plain": [
       "               SPX          GLD          USO          SLV      EUR/USD\n",
       "count  2290.000000  2290.000000  2290.000000  2290.000000  2290.000000\n",
       "mean   1654.315776   122.732875    31.842221    20.084997     1.283653\n",
       "std     519.111540    23.283346    19.523517     7.092566     0.131547\n",
       "min     676.530029    70.000000     7.960000     8.850000     1.039047\n",
       "25%    1239.874969   109.725000    14.380000    15.570000     1.171313\n",
       "50%    1551.434998   120.580002    33.869999    17.268500     1.303297\n",
       "75%    2073.010070   132.840004    37.827501    22.882500     1.369971\n",
       "max    2872.870117   184.589996   117.480003    47.259998     1.598798"
      ]
     },
     "execution_count": 8,
     "metadata": {},
     "output_type": "execute_result"
    }
   ],
   "source": [
    "gold_data.describe()"
   ]
  },
  {
   "cell_type": "code",
   "execution_count": 9,
   "id": "eb970531-1c22-4f8f-9b15-21af994a7114",
   "metadata": {},
   "outputs": [
    {
     "name": "stdout",
     "output_type": "stream",
     "text": [
      "<class 'pandas.core.frame.DataFrame'>\n",
      "RangeIndex: 2290 entries, 0 to 2289\n",
      "Data columns (total 6 columns):\n",
      " #   Column   Non-Null Count  Dtype  \n",
      "---  ------   --------------  -----  \n",
      " 0   Date     2290 non-null   object \n",
      " 1   SPX      2290 non-null   float64\n",
      " 2   GLD      2290 non-null   float64\n",
      " 3   USO      2290 non-null   float64\n",
      " 4   SLV      2290 non-null   float64\n",
      " 5   EUR/USD  2290 non-null   float64\n",
      "dtypes: float64(5), object(1)\n",
      "memory usage: 107.5+ KB\n"
     ]
    }
   ],
   "source": [
    "gold_data.info()"
   ]
  },
  {
   "cell_type": "code",
   "execution_count": 10,
   "id": "7d825e40-1be0-4723-9f7a-955dd73d29c1",
   "metadata": {},
   "outputs": [
    {
     "data": {
      "text/plain": [
       "Date       0\n",
       "SPX        0\n",
       "GLD        0\n",
       "USO        0\n",
       "SLV        0\n",
       "EUR/USD    0\n",
       "dtype: int64"
      ]
     },
     "execution_count": 10,
     "metadata": {},
     "output_type": "execute_result"
    }
   ],
   "source": [
    "gold_data.isnull().sum()"
   ]
  },
  {
   "cell_type": "code",
   "execution_count": 12,
   "id": "e65f1fd7-466a-41eb-a218-11e8a96ef8a7",
   "metadata": {},
   "outputs": [],
   "source": [
    "correlation= gold_data.corr()"
   ]
  },
  {
   "cell_type": "code",
   "execution_count": 15,
   "id": "5a5c0bb9-d2ab-44ec-b13e-0e2b58ad21f8",
   "metadata": {},
   "outputs": [
    {
     "data": {
      "text/plain": [
       "<Figure size 576x576 with 0 Axes>"
      ]
     },
     "execution_count": 15,
     "metadata": {},
     "output_type": "execute_result"
    },
    {
     "data": {
      "text/plain": [
       "<Figure size 576x576 with 0 Axes>"
      ]
     },
     "metadata": {},
     "output_type": "display_data"
    }
   ],
   "source": [
    "plt.figure(figsize=(8,8))"
   ]
  },
  {
   "cell_type": "code",
   "execution_count": 29,
   "id": "f3789f0c-2910-46b1-b8db-6ae443acf7d4",
   "metadata": {},
   "outputs": [
    {
     "name": "stdout",
     "output_type": "stream",
     "text": [
      "SPX        0.049345\n",
      "GLD        1.000000\n",
      "USO       -0.186360\n",
      "SLV        0.866632\n",
      "EUR/USD   -0.024375\n",
      "Name: GLD, dtype: float64\n"
     ]
    },
    {
     "data": {
      "image/png": "[encoded data removed]",
      "text/plain": [
       "<Figure size 432x288 with 2 Axes>"
      ]
     },
     "metadata": {
      "needs_background": "light"
     },
     "output_type": "display_data"
    }
   ],
   "source": [
    "sns.heatmap(correlation, cbar=True,square=True, fmt='.1f', annot=True,annot_kws={'size': 15},cmap='Blues')\n",
    "print(correlation['GLD'])"
   ]
  },
  {
   "cell_type": "code",
   "execution_count": 32,
   "id": "79f35ed4-8153-47f2-bbe2-72d0dda876ef",
   "metadata": {},
   "outputs": [
    {
     "data": {
      "text/plain": [
       "<seaborn.axisgrid.FacetGrid at 0x1f880028820>"
      ]
     },
     "execution_count": 32,
     "metadata": {},
     "output_type": "execute_result"
    },
    {
     "data": {
      "image/png": "[encoded data removed]",
      "text/plain": [
       "<Figure size 360x360 with 1 Axes>"
      ]
     },
     "metadata": {
      "needs_background": "light"
     },
     "output_type": "display_data"
    }
   ],
   "source": [
    "sns.displot(gold_data['GLD'],color='green')"
   ]
  },
  {
   "cell_type": "code",
   "execution_count": 33,
   "id": "62c56502-3e91-4377-84f8-023ae1ee91d3",
   "metadata": {},
   "outputs": [],
   "source": [
    "X= gold_data.drop(['GLD','Date'],axis=1)"
   ]
  },
  {
   "cell_type": "code",
   "execution_count": 34,
   "id": "4e5a6ee5-cc79-4e92-94d9-9311f533fa78",
   "metadata": {},
   "outputs": [
    {
     "name": "stdout",
     "output_type": "stream",
     "text": [
      "              SPX        USO      SLV   EUR/USD\n",
      "0     1447.160034  78.470001  15.1800  1.471692\n",
      "1     1447.160034  78.370003  15.2850  1.474491\n",
      "2     1411.630005  77.309998  15.1670  1.475492\n",
      "3     1416.180054  75.500000  15.0530  1.468299\n",
      "4     1390.189941  76.059998  15.5900  1.557099\n",
      "...           ...        ...      ...       ...\n",
      "2285  2671.919922  14.060000  15.5100  1.186789\n",
      "2286  2697.790039  14.370000  15.5300  1.184722\n",
      "2287  2723.070068  14.410000  15.7400  1.191753\n",
      "2288  2730.129883  14.380000  15.5600  1.193118\n",
      "2289  2725.780029  14.405800  15.4542  1.182033\n",
      "\n",
      "[2290 rows x 4 columns]\n",
      "0        84.860001\n",
      "1        85.570000\n",
      "2        85.129997\n",
      "3        84.769997\n",
      "4        86.779999\n",
      "           ...    \n",
      "2285    124.589996\n",
      "2286    124.330002\n",
      "2287    125.180000\n",
      "2288    124.489998\n",
      "2289    122.543800\n",
      "Name: GLD, Length: 2290, dtype: float64\n"
     ]
    }
   ],
   "source": [
    "Y= gold_data['GLD']\n",
    "print(X)\n",
    "print(Y)"
   ]
  },
  {
   "cell_type": "code",
   "execution_count": 35,
   "id": "640702f4-0455-49b0-80d0-b093f6af10c4",
   "metadata": {},
   "outputs": [
    {
     "name": "stdout",
     "output_type": "stream",
     "text": [
      "(2290, 4) (1832, 4) (458, 4)\n"
     ]
    }
   ],
   "source": [
    "X_train,X_test,Y_train,Y_test = train_test_split(X,Y,test_size=0.2, random_state=2)\n",
    "print(X.shape,X_train.shape, X_test.shape)"
   ]
  },
  {
   "cell_type": "code",
   "execution_count": 38,
   "id": "6d51a8ba-b000-4d3e-ac97-9bbf9a453daf",
   "metadata": {},
   "outputs": [],
   "source": [
    "regressor= RandomForestRegressor(n_estimators=100)"
   ]
  },
  {
   "cell_type": "code",
   "execution_count": 40,
   "id": "d8d3a4f2-7f00-4f34-a383-ae047b0da9a3",
   "metadata": {},
   "outputs": [
    {
     "name": "stdout",
     "output_type": "stream",
     "text": [
      "              SPX        USO        SLV   EUR/USD\n",
      "903   1351.949951  38.330002  32.900002  1.324854\n",
      "129   1271.510010  93.900002  13.450000  1.472581\n",
      "1787  1880.050049   8.910000  14.340000  1.119996\n",
      "1913  2181.300049  10.960000  18.620001  1.127142\n",
      "2048  2352.949951  10.680000  17.320000  1.067247\n",
      "...           ...        ...        ...       ...\n",
      "923   1370.869995  41.090000  33.220001  1.327492\n",
      "1693  1952.290039  14.930000  13.990000  1.129089\n",
      "2054  2349.010010  11.060000  17.430000  1.064453\n",
      "658   1273.849976  37.680000  28.420000  1.315686\n",
      "376   1057.579956  35.959999  17.250000  1.478131\n",
      "\n",
      "[458 rows x 4 columns] [168.59319932  81.83279988 115.87139983 127.73540068 120.65080123\n",
      " 154.68149824 150.2310992  126.20569997 117.37409881 125.82680134\n",
      " 116.77400121 170.90540099 141.70499854 167.86769805 115.18880022\n",
      " 117.65230031 138.64710252 169.86010047 159.51140312 159.59149938\n",
      " 154.87400001 125.31409994 175.41849971 157.21920366 125.11330073\n",
      "  93.84779992  77.39060029 120.34719991 118.98629901 167.42409984\n",
      "  88.37490002 125.40069977  91.29040071 117.72900016 121.10859868\n",
      " 135.72900107 115.6156011  114.83220071 146.44340011 107.28060099\n",
      " 104.58050242  87.1610982  126.51900038 118.08980017 154.3145987\n",
      " 119.46370015 108.29649969 108.08789843  93.08380066 126.98409805\n",
      "  75.00590036 113.63429923 121.37560003 111.34769908 118.91709869\n",
      " 120.48199951 159.03970011 166.44990144 147.03189632  85.81709865\n",
      "  94.59180056  86.71489852  90.79210026 119.00870072 126.47340055\n",
      " 127.48329996 170.53699964 122.26329933 117.25409899  98.39590007\n",
      " 168.14860112 143.21019899 132.37470243 121.2367022  121.02829934\n",
      " 119.66650065 114.50850146 118.40020024 107.31070085 128.07950059\n",
      " 113.9213998  107.23819993 116.64700043 119.74489886  89.04970109\n",
      "  88.22079869 146.32690199 127.20760025 113.48610035 109.77009848\n",
      " 108.23819917  77.44679896 169.37410202 114.04019914 121.66639936\n",
      " 128.0147024  155.0532982   91.60989944 136.13160088 158.65140347\n",
      " 126.01640073 125.66200053 130.5550017  114.77540106 119.82369955\n",
      "  91.98239998 110.17149902 168.09079924 156.82279909 114.23849952\n",
      " 106.70690149  79.40029998 113.30500054 125.91880078 107.03229959\n",
      " 119.65160063 155.82070286 159.60839956 120.34819971 134.16790326\n",
      " 101.54109993 117.34049795 119.31820048 112.90590058 102.82029897\n",
      " 160.04609813  99.07470012 148.46619953 125.65790074 169.80809939\n",
      " 125.42179903 127.42219685 127.52180241 113.80719941 112.69850065\n",
      " 123.6451992  102.14539903  89.48239965 124.48609952 102.24929938\n",
      " 107.05849915 113.64980026 117.44700057  99.38459942 121.79950042\n",
      " 163.10589849  87.25079857 106.70259992 117.09210075 127.7412014\n",
      " 123.94300103  80.72309911 120.2614006  157.13819828  88.0306997\n",
      " 110.20299927 118.82079903 171.65309884 103.04379904 105.38290052\n",
      " 122.61940035 157.92869782  87.66739836  93.3410001  112.77250035\n",
      " 177.80619924 114.50589994 119.29610028  94.54700104 125.93720029\n",
      " 166.26320114 114.8084009  116.72330116  88.30969871 148.88770078\n",
      " 120.32619936  89.40189955 112.14869996 117.41780068 118.67530132\n",
      "  88.11029925  94.08690004 117.12139999 118.69290209 120.36120041\n",
      " 126.84849817 121.90749955 149.9122006  164.99260056 118.70309952\n",
      " 120.40040134 151.92639996 118.38899908 172.56149919 105.35039923\n",
      " 104.9938015  149.67020094 113.58160077 124.87190118 147.13369998\n",
      " 119.61860143 115.33630043 112.46169999 113.47370207 141.89950127\n",
      " 117.72439773 102.93230047 115.83740098 103.87100171  98.68350003\n",
      " 117.36390061  90.65180023  91.63300063 153.42629902 102.78749954\n",
      " 155.07720103 114.5593014  138.31130146  90.32239813 115.52179945\n",
      " 114.79739918 123.03440028 121.94780005 165.43000161  92.91529942\n",
      " 135.45480085 121.3017991  120.87350066 104.81680029 143.2956028\n",
      " 121.56029929 116.70090051 113.34770086 127.03999766 122.65719949\n",
      " 125.84459973 121.21850053  86.85759907 132.65390246 143.88040176\n",
      "  92.78839922 157.58859944 158.41060219 126.59709865 165.01549955\n",
      " 108.92369993 109.72950037 103.62529851  94.30540072 127.99220287\n",
      " 106.91230083 160.48269978 121.75720025 132.0213003  130.69700136\n",
      " 160.54229917  90.15459848 175.36920129 127.90200002 126.8277985\n",
      "  86.35709935 124.46519914 150.36449719  89.67269994 106.89630009\n",
      " 108.97069991  84.79549881 136.22679986 155.12660206 138.11080351\n",
      "  74.31970011 152.94220094 126.09449954 126.7128001  127.5762987\n",
      " 108.62959959 156.11970024 114.62490114 116.88620138 125.4963996\n",
      " 154.02920101 121.28399973 156.38949879  92.93960062 125.55930185\n",
      " 125.63840039  88.19720079  92.00099908 126.36889884 128.40280334\n",
      " 113.25790049 117.66849737 121.05430042 127.18269823 119.82210096\n",
      " 135.98080019  93.81779931 119.79410025 113.39860099  94.30679953\n",
      " 108.88210017  87.39639909 108.76329962  89.73119959  92.37010034\n",
      " 131.58670228 162.42090055  89.31349987 119.57990107 133.35880177\n",
      " 123.80870023 128.18570228 101.92829841  88.91239877 132.00920065\n",
      " 119.91460031 108.70020002 168.70130235 115.17000029  86.69439905\n",
      " 118.72310084  91.1178995  161.78840062 116.21040057 121.52049999\n",
      " 160.1689982  120.00389921 112.66689941 108.51249873 126.6602001\n",
      "  76.20510032 103.01949984 127.9536028  121.73539919  92.64599975\n",
      " 131.4077006  118.35170143 116.2978     154.5753027  159.48380081\n",
      " 110.20639925 153.86269752 119.18030095 160.69490132 118.49910024\n",
      " 156.87809942 115.07219935 116.63110036 148.21929904 114.75400056\n",
      " 125.53609873 166.31239978 117.7548     124.77859946 153.26330355\n",
      " 153.45530286 132.13470033 114.77520005 121.32760186 125.10920062\n",
      "  89.82220059 123.26709996 154.83830197 111.87020036 106.73220009\n",
      " 161.99570135 118.55819984 165.68999981 134.27680092 115.02529979\n",
      " 153.013999   168.68640089 114.45560002 113.87830118 157.59829943\n",
      "  85.3862991  127.20540057 127.9430007  128.9149004  124.17060048\n",
      " 123.76350028  90.44240092 153.04750048  97.07109989 137.58479938\n",
      "  88.88649944 107.19499993 115.1180007  112.46340108 124.27489904\n",
      "  91.40569886 125.35070113 162.40539914 120.0315984  165.14410078\n",
      " 126.93369799 112.32150011 127.56059901  95.14189895  91.09720021\n",
      " 103.42109915 120.87570015  83.42709944 126.32639996 160.3929046\n",
      " 117.22650086 118.29959964 119.70859982 122.45619958 120.11490137\n",
      " 121.55109987 118.15440058 107.07379999 148.06829902 126.08009819\n",
      " 115.64450054  74.20830018 127.79260116 154.01270025 123.05159996\n",
      " 125.54550006  88.93000047 102.83589848 124.30930033 120.1786005\n",
      "  73.51980082 151.78559952 121.28580044 104.74310018  86.08449772\n",
      " 114.96639906 172.15959841 119.91800025 159.6534975  113.22779981\n",
      " 120.68619992 118.4481017   96.12749994 118.54160022 125.92970029\n",
      " 118.65539962  96.14720063 153.84560168 122.06389967 147.51799997\n",
      " 159.16730216 113.71670051 122.6943992  149.10079796 127.34110049\n",
      " 165.94490022 135.20890044 120.14889949 167.88919902 108.30189958\n",
      " 121.88079845 138.63060066 106.23449903]\n"
     ]
    }
   ],
   "source": [
    "regressor.fit(X_train,Y_train)\n",
    "test_data_prediction =regressor.predict(X_test)\n",
    "print(X_test,test_data_prediction)"
   ]
  },
  {
   "cell_type": "code",
   "execution_count": 42,
   "id": "bb265dce-4240-4d80-b648-63cd3a0d7b75",
   "metadata": {},
   "outputs": [
    {
     "name": "stdout",
     "output_type": "stream",
     "text": [
      "0.9899573868652392\n"
     ]
    }
   ],
   "source": [
    "error_score= metrics.r2_score(Y_test, test_data_prediction)\n",
    "print(error_score)"
   ]
  },
  {
   "cell_type": "code",
   "execution_count": 44,
   "id": "9a2b129f-65d6-4dd1-9872-82e82247d980",
   "metadata": {},
   "outputs": [
    {
     "data": {
      "image/png": "[encoded data removed]",
      "text/plain": [
       "<Figure size 432x288 with 1 Axes>"
      ]
     },
     "metadata": {
      "needs_background": "light"
     },
     "output_type": "display_data"
    }
   ],
   "source": [
    "Y_test=list(Y_test)\n",
    "plt.plot(Y_test,color='blue', label='Actual value')\n",
    "plt.plot(test_data_prediction,color='green', label='Predicted value')\n",
    "plt.title('Actual value v/s Predicted Value')\n",
    "plt.xlabel('no. of values')\n",
    "plt.ylabel('Gold price')\n",
    "plt.legend()\n",
    "plt.show()"
   ]
  },
  {
   "cell_type": "code",
   "execution_count": null,
   "id": "bc1fba3a-8626-4bac-9f94-d661036ef5e9",
   "metadata": {},
   "outputs": [],
   "source": []
  }
 ],
 "metadata": {
  "kernelspec": {
   "display_name": "Python 3 (ipykernel)",
   "language": "python",
   "name": "python3"
  },
  "language_info": {
   "codemirror_mode": {
    "name": "ipython",
    "version": 3
   },
   "file_extension": ".py",
   "mimetype": "text/x-python",
   "name": "python",
   "nbconvert_exporter": "python",
   "pygments_lexer": "ipython3",
   "version": "3.9.7"
  }
 },
 "nbformat": 4,
 "nbformat_minor": 5
}
